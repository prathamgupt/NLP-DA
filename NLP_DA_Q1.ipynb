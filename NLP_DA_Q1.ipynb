{
 "cells": [
  {
   "cell_type": "code",
   "execution_count": null,
   "id": "3701eb04",
   "metadata": {},
   "outputs": [],
   "source": [
    "!pip install datasets\n",
    "!pip install scikit-learn\n",
    "!pip install tensorflow"
   ]
  },
  {
   "cell_type": "code",
   "execution_count": 1,
   "id": "95ba845c",
   "metadata": {},
   "outputs": [],
   "source": [
    "from datasets import load_dataset\n",
    "\n",
    "train_file_path = r\"C:\\Users\\HP\\Desktop\\NLP_DA\\q1_dataset\\train_150k.txt\"\n",
    "test_file_path = r\"C:\\Users\\HP\\Desktop\\NLP_DA\\q1_dataset\\test_62k.txt\"\n",
    "\n",
    "train_dataset = load_dataset(\"text\", data_files=train_file_path)\n",
    "train_data = train_dataset['train']\n",
    "\n",
    "test_dataset = load_dataset(\"text\", data_files=test_file_path)\n",
    "test_data = test_dataset['train'] "
   ]
  },
  {
   "cell_type": "code",
   "execution_count": 2,
   "id": "4abf2eb8",
   "metadata": {},
   "outputs": [
    {
     "name": "stdout",
     "output_type": "stream",
     "text": [
      "Naive Bayes Classifier Accuracy: 0.52\n",
      "Classification Report:\n",
      "               precision    recall  f1-score   support\n",
      "\n",
      "           0       0.55      0.57      0.56        53\n",
      "           1       0.49      0.47      0.48        47\n",
      "\n",
      "    accuracy                           0.52       100\n",
      "   macro avg       0.52      0.52      0.52       100\n",
      "weighted avg       0.52      0.52      0.52       100\n",
      "\n"
     ]
    }
   ],
   "source": [
    "from sklearn.feature_extraction.text import CountVectorizer\n",
    "from sklearn.naive_bayes import MultinomialNB\n",
    "from sklearn.metrics import accuracy_score\n",
    "from sklearn.metrics import classification_report\n",
    "\n",
    "\n",
    "\n",
    "X_train = train_data['text'][:100]\n",
    "X_test = test_data['text'][:100]\n",
    "\n",
    "y_train = [int(sample[0]) for sample in X_train]\n",
    "y_test = [int(sample[0]) for sample in X_test]\n",
    "\n",
    "\n",
    "vectorizer = CountVectorizer()\n",
    "X_train_vec = vectorizer.fit_transform(X_train)\n",
    "X_test_vec = vectorizer.transform(X_test)\n",
    "\n",
    "\n",
    "nb_classifier = MultinomialNB()\n",
    "nb_classifier.fit(X_train_vec, y_train)\n",
    "\n",
    "\n",
    "nb_predictions = nb_classifier.predict(X_test_vec)\n",
    "accuracy = accuracy_score(y_test, nb_predictions)\n",
    "print(\"Naive Bayes Classifier Accuracy:\", accuracy)\n",
    "print(\"Classification Report:\\n\", classification_report(y_test, nb_predictions))\n",
    "\n"
   ]
  },
  {
   "cell_type": "code",
   "execution_count": 3,
   "id": "2aed3c47",
   "metadata": {},
   "outputs": [
    {
     "name": "stdout",
     "output_type": "stream",
     "text": [
      "SVM Classifier Accuracy: 0.51\n",
      "Classification Report:\n",
      "               precision    recall  f1-score   support\n",
      "\n",
      "           0       0.54      0.57      0.55        53\n",
      "           1       0.48      0.45      0.46        47\n",
      "\n",
      "    accuracy                           0.51       100\n",
      "   macro avg       0.51      0.51      0.51       100\n",
      "weighted avg       0.51      0.51      0.51       100\n",
      "\n"
     ]
    }
   ],
   "source": [
    "from sklearn.feature_extraction.text import TfidfVectorizer\n",
    "from sklearn.svm import SVC\n",
    "from sklearn.metrics import accuracy_score, classification_report\n",
    "\n",
    "\n",
    "tfidf_vectorizer = TfidfVectorizer()\n",
    "X_train_tfidf = tfidf_vectorizer.fit_transform(X_train)\n",
    "X_test_tfidf = tfidf_vectorizer.transform(X_test)\n",
    "\n",
    "\n",
    "svm_classifier = SVC(kernel='linear')\n",
    "svm_classifier.fit(X_train_tfidf, y_train)\n",
    "\n",
    "\n",
    "svm_predictions = svm_classifier.predict(X_test_tfidf)\n",
    "accuracy = accuracy_score(y_test, svm_predictions)\n",
    "print(\"SVM Classifier Accuracy:\", accuracy)\n",
    "print(\"Classification Report:\\n\", classification_report(y_test, svm_predictions))\n"
   ]
  },
  {
   "cell_type": "code",
   "execution_count": 5,
   "id": "7c69e3dc",
   "metadata": {},
   "outputs": [
    {
     "name": "stdout",
     "output_type": "stream",
     "text": [
      "Epoch 1/5\n",
      "4/4 [==============================] - 3s 210ms/step - loss: 0.6913 - accuracy: 0.5400 - val_loss: 0.6917 - val_accuracy: 0.5300\n",
      "Epoch 2/5\n",
      "4/4 [==============================] - 0s 34ms/step - loss: 0.6888 - accuracy: 0.6000 - val_loss: 0.6916 - val_accuracy: 0.5300\n",
      "Epoch 3/5\n",
      "4/4 [==============================] - 0s 32ms/step - loss: 0.6862 - accuracy: 0.5900 - val_loss: 0.6917 - val_accuracy: 0.5300\n",
      "Epoch 4/5\n",
      "4/4 [==============================] - 0s 32ms/step - loss: 0.6812 - accuracy: 0.5800 - val_loss: 0.6961 - val_accuracy: 0.5300\n",
      "Epoch 5/5\n",
      "4/4 [==============================] - 0s 32ms/step - loss: 0.6771 - accuracy: 0.5800 - val_loss: 0.7061 - val_accuracy: 0.5300\n"
     ]
    },
    {
     "data": {
      "text/plain": [
       "<keras.src.callbacks.History at 0x1f2dcf70f70>"
      ]
     },
     "execution_count": 5,
     "metadata": {},
     "output_type": "execute_result"
    }
   ],
   "source": [
    "from tensorflow.keras.preprocessing.text import Tokenizer\n",
    "from tensorflow.keras.preprocessing.sequence import pad_sequences\n",
    "from tensorflow.keras.models import Sequential\n",
    "from tensorflow.keras.layers import Embedding, LSTM, Dense\n",
    "from sklearn.model_selection import train_test_split\n",
    "import numpy as np\n",
    "\n",
    "\n",
    "X_train = train_data['text'][:100]\n",
    "X_test = test_data['text'][:100]\n",
    "\n",
    "\n",
    "y_train = np.array([int(sample[0]) for sample in X_train])\n",
    "y_test = np.array([int(sample[0]) for sample in X_test])\n",
    "\n",
    "tokenizer = Tokenizer()\n",
    "tokenizer.fit_on_texts(X_train)\n",
    "\n",
    "X_train_seq = tokenizer.texts_to_sequences(X_train)\n",
    "X_test_seq = tokenizer.texts_to_sequences(X_test)\n",
    "\n",
    "max_len = max(len(seq) for seq in X_train_seq + X_test_seq)\n",
    "X_train_padded = pad_sequences(X_train_seq, maxlen=max_len, padding='post')\n",
    "X_test_padded = pad_sequences(X_test_seq, maxlen=max_len, padding='post')\n",
    "\n",
    "model = Sequential()\n",
    "model.add(Embedding(input_dim=len(tokenizer.word_index) + 1, output_dim=64, input_length=max_len))\n",
    "model.add(LSTM(64))\n",
    "model.add(Dense(1, activation='sigmoid'))\n",
    "\n",
    "model.compile(optimizer='adam', loss='binary_crossentropy', metrics=['accuracy'])\n",
    "\n",
    "model.fit(X_train_padded, y_train, epochs=5, validation_data=(X_test_padded, y_test))\n",
    "\n"
   ]
  }
 ],
 "metadata": {
  "kernelspec": {
   "display_name": "Python 3 (ipykernel)",
   "language": "python",
   "name": "python3"
  },
  "language_info": {
   "codemirror_mode": {
    "name": "ipython",
    "version": 3
   },
   "file_extension": ".py",
   "mimetype": "text/x-python",
   "name": "python",
   "nbconvert_exporter": "python",
   "pygments_lexer": "ipython3",
   "version": "3.10.0"
  }
 },
 "nbformat": 4,
 "nbformat_minor": 5
}
